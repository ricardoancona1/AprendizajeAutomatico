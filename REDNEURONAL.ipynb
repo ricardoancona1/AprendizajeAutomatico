{
 "cells": [
  {
   "cell_type": "code",
   "execution_count": 10,
   "metadata": {},
   "outputs": [],
   "source": [
    "import numpy as np#libreria que facilita operaciones de vectores y matrices\n",
    "\n",
    "def sigmoid(x):#funcion que recibe un parametro y devuelve el valor sigmoidal del parametro\n",
    "    return 1.0/(1.0 + np.exp(-x))#se calcula y retorna el valor sigmoidal del parametro\n",
    "\n",
    "def sigmoid_derivada(x):#funcion que recibe un  valor sigmoidal y devuelve su derivada\n",
    "    return sigmoid(x)*(1.0-sigmoid(x))#calcula la derivada y la retorna\n",
    "\n",
    "def tanh(x):#funcion que recibe un parametro y devuelve la tangente hiperbolica\n",
    "    return np.tanh(x)#funcion de numpy que calcula la tangente hiperbolica y la retorna\n",
    "\n",
    "def tanh_derivada(x):#funcion que recibe la tangente hiperbolica y regresa su derivada\n",
    "    return 1.0 - x**2#se calcula y retorna la derivada de la tangente hiperbolica\n",
    "\n",
    "\n",
    "class NeuralNetwork:#se define la clase NeuralNetwork\n",
    "\n",
    "    def __init__(self, layers, activation='tanh'):\n",
    "        if activation == 'sigmoid':#si la funcion de activacion es sigmoide\n",
    "            self.activation = sigmoid#entonces utiliza sigmoide\n",
    "            self.activation_prime = sigmoid_derivada#y calcula su derivada\n",
    "        elif activation == 'tanh':#sino y si es tanh\n",
    "            self.activation = tanh#entonces utiliza la tangente hiperbolica\n",
    "            self.activation_prime = tanh_derivada#y calula su derivada\n",
    "\n",
    "        # declara los pesos\n",
    "        self.weights = []#vector que contendra los pesos: fuerza de union entre las neuronas \n",
    "        self.deltas = []#vector que contendra las deltas: modificación en el peso simpátrico de un nodo es igual a la multiplicación del error y la entrada.\n",
    "        # capas = [2,3,2]\n",
    "        # rango de pesos varia entre (-1,1)\n",
    "        # asigno valores aleatorios a capa de entrada y capa oculta\n",
    "        \n",
    "        for i in range(1, len(layers) - 1):#tantas veces como capas existan\n",
    "            r = 2*np.random.random((layers[i-1] + 1, layers[i] + 1)) -1#calculo alearorio los pesos para la posicion anterior\n",
    "            self.weights.append(r)#se añaden al vector weights\n",
    "        # asigno aleatorios a capa de salida\n",
    "        r = 2*np.random.random( (layers[i] + 1, layers[i+1])) - 1#para la posicion actual\n",
    "        self.weights.append(r)\n",
    "\n",
    "    def fit(self, X, y, learning_rate=0.2, epochs=100000):#funcion que entrenara el algoritmo\n",
    "        # Agrego columna de unos a las entradas X\n",
    "        # Con esto agregamos la unidad de Bias a la capa de entrada\n",
    "        ones = np.atleast_2d(np.ones(X.shape[0]))#arreglo de almenos dos dimensiones con unos\n",
    "        X = np.concatenate((ones.T, X), axis=1)#se concatenan los unos en una matriz\n",
    "        \n",
    "        for k in range(epochs):#se repite tantas veces como epocas existan\n",
    "            i = np.random.randint(X.shape[0])#se obtienen enteros aleatorios\n",
    "            a = [X[i]]#se almacenan en X y a su vez en a\n",
    "\n",
    "            for l in range(len(self.weights)):\n",
    "                    dot_value = np.dot(a[l], self.weights[l])#se calcula el producto escalar de las dos matrices\n",
    "                    activation = self.activation(dot_value)#se calcula la tangente hiperbolica del producto escalar\n",
    "                    a.append(activation)#y se anexa al arreglo a\n",
    "            # Calculo la diferencia en la capa de salida y el valor obtenido\n",
    "            #las deltas se calculan multiplicando el error y la entrada\n",
    "            error = y[i] - a[-1]#se calcula el error\n",
    "            deltas = [error * self.activation_prime(a[-1])]#se multiplica por la entrada\n",
    "            \n",
    "            # Empezamos en el segundo layer hasta el ultimo\n",
    "            # (Una capa anterior a la de salida)\n",
    "            for l in range(len(a) - 2, 0, -1): \n",
    "                deltas.append(deltas[-1].dot(self.weights[l].T)*self.activation_prime(a[l]))\n",
    "            self.deltas.append(deltas)#se añade  lo anterior al arreglo deltas\n",
    "\n",
    "            # invertir\n",
    "            # [level3(output)->level2(hidden)]  => [level2(hidden)->level3(output)]\n",
    "            deltas.reverse()\n",
    "\n",
    "            # backpropagation\n",
    "            # 1. Multiplcar los delta de salida con las activaciones de entrada \n",
    "            #    para obtener el gradiente del peso.\n",
    "            # 2. actualizo el peso restandole un porcentaje del gradiente\n",
    "            for i in range(len(self.weights)):\n",
    "                layer = np.atleast_2d(a[i])\n",
    "                delta = np.atleast_2d(deltas[i])\n",
    "                self.weights[i] += learning_rate * layer.T.dot(delta)\n",
    "\n",
    "            if k % 10000 == 0: print('epochs:', k)\n",
    "\n",
    "    def predict(self, x): #funcion para predecir\n",
    "        ones = np.atleast_2d(np.ones(x.shape[0]))\n",
    "        a = np.concatenate((np.ones(1).T, np.array(x)), axis=0)\n",
    "        for l in range(0, len(self.weights)):\n",
    "            a = self.activation(np.dot(a, self.weights[l]))\n",
    "        return a\n",
    "\n",
    "    def print_weights(self):#funcion para imprimir los pesos\n",
    "        print(\"LISTADO PESOS DE CONEXIONES\")\n",
    "        for i in range(len(self.weights)):\n",
    "            print(self.weights[i])\n",
    "\n",
    "    def get_deltas(self):#funcion para imprmir las deltas\n",
    "        return self.deltas"
   ]
  },
  {
   "cell_type": "code",
   "execution_count": 2,
   "metadata": {},
   "outputs": [
    {
     "name": "stdout",
     "output_type": "stream",
     "text": [
      "epochs: 0\n",
      "epochs: 10000\n",
      "X: [0. 0.] y: [0 1] Network: [-0.00406081  0.99998847]\n",
      "X: [0. 1.] y: [0 1] Network: [-8.92576741e-04  9.99989418e-01]\n",
      "X: [ 0. -1.] y: [0 1] Network: [0.00145909 0.99988429]\n",
      "X: [0.5 1. ] y: [-1  1] Network: [-0.92712553  0.94670876]\n",
      "X: [ 0.5 -1. ] y: [1 1] Network: [0.96042211 0.96684847]\n",
      "X: [1. 1.] y: [ 0 -1] Network: [-0.01458449 -0.9497266 ]\n",
      "X: [ 1. -1.] y: [ 0 -1] Network: [ 0.00272708 -0.98815981]\n"
     ]
    }
   ],
   "source": [
    "# funcion Coche Evita obstáculos\n",
    "nn = NeuralNetwork([2,3,2],activation ='tanh')#dos neuronas de entrada tres capas ocultas y dos de salida\n",
    "X = np.array([[0, 0],   # sin obstaculos\n",
    "              [0, 1],   # sin obstaculos a la derecha\n",
    "              [0, -1],  # sin obstaculos a la izquierda\n",
    "              [0.5, 1], # obstaculo detectado a derecha\n",
    "              [0.5,-1], # obstaculo a izq\n",
    "              [1,1],    # demasiado cerca a derecha\n",
    "              [1,-1]])  # demasiado cerca a izq\n",
    "\n",
    "y = np.array([[0,1],    # avanzar\n",
    "              [0,1],    # avanzar\n",
    "              [0,1],    # avanzar\n",
    "              [-1,1],   # giro izquierda\n",
    "              [1,1],    # giro derecha\n",
    "              [0,-1],   # retroceder\n",
    "              [0,-1]])  # retroceder\n",
    "nn.fit(X, y, learning_rate=0.03,epochs=15001)\n",
    "\n",
    "index=0\n",
    "for e in X:\n",
    "    print(\"X:\",e,\"y:\",y[index],\"Network:\",nn.predict(e))\n",
    "    index=index+1"
   ]
  },
  {
   "cell_type": "code",
   "execution_count": null,
   "metadata": {},
   "outputs": [],
   "source": []
  },
  {
   "cell_type": "code",
   "execution_count": 11,
   "metadata": {},
   "outputs": [
    {
     "data": {
      "image/png": "[encoded data removed]",
      "text/plain": [
       "<Figure size 432x288 with 1 Axes>"
      ]
     },
     "metadata": {
      "needs_background": "light"
     },
     "output_type": "display_data"
    }
   ],
   "source": [
    "import matplotlib.pyplot as plt\n",
    "\n",
    "deltas = nn.get_deltas()\n",
    "valores=[]\n",
    "index=0\n",
    "for arreglo in deltas:\n",
    "    valores.append(arreglo[1][0] + arreglo[1][1])\n",
    "    index=index+1\n",
    "\n",
    "plt.plot(range(len(valores)), valores, color='b')\n",
    "plt.ylim([0, 1])\n",
    "plt.ylabel('Cost deltas')\n",
    "plt.xlabel('Epochs')\n",
    "plt.tight_layout()\n",
    "plt.show()"
   ]
  },
  {
   "cell_type": "code",
   "execution_count": null,
   "metadata": {},
   "outputs": [],
   "source": []
  }
 ],
 "metadata": {
  "kernelspec": {
   "display_name": "Python 3",
   "language": "python",
   "name": "python3"
  },
  "language_info": {
   "codemirror_mode": {
    "name": "ipython",
    "version": 3
   },
   "file_extension": ".py",
   "mimetype": "text/x-python",
   "name": "python",
   "nbconvert_exporter": "python",
   "pygments_lexer": "ipython3",
   "version": "3.7.3"
  }
 },
 "nbformat": 4,
 "nbformat_minor": 2
}
